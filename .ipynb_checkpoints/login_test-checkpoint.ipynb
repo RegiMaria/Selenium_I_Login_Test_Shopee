{
 "cells": [
  {
   "cell_type": "code",
   "execution_count": 2,
   "id": "9878b5ee-e779-4bc9-bb7a-ce8a3b317a64",
   "metadata": {
    "tags": []
   },
   "outputs": [],
   "source": [
    "from selenium import webdriver\n",
    "from selenium.webdriver.common.by import By\n",
    "from selenium.webdriver.common.action_chains import ActionChains\n",
    "from selenium.webdriver.support.ui import WebDriverWait\n",
    "from selenium.webdriver.support import expected_conditions as EC"
   ]
  },
  {
   "cell_type": "code",
   "execution_count": 3,
   "id": "5ba12af3-bc85-4b42-8268-0ffdd34fcb56",
   "metadata": {
    "tags": []
   },
   "outputs": [
    {
     "name": "stdout",
     "output_type": "stream",
     "text": [
      "Preencheu o campo de e-mail\n",
      "Preencheu o campo de senha\n",
      "Clicou no botão 'Entrar'\n"
     ]
    }
   ],
   "source": [
    "\n",
    "#Initialize the driver:\n",
    "driver = webdriver.Chrome()\n",
    "driver.get(\"https://shopee.com.br/\")\n",
    "\n",
    "#Locate and reject the cookie button:\n",
    "try:\n",
    "    cookie_button = WebDriverWait(driver, 10).until(\n",
    "        EC.element_to_be_clickable((By.XPATH, '//*[@id=\"main\"]/div/div[5]/div/div[3]/button[2]'))\n",
    "    )\n",
    "    ActionChains(driver).click(cookie_button).perform()\n",
    "except Exception as e:\n",
    "    print(f\"Erro ao rejeitar cookie: {e}\")\n",
    "\n",
    "# Agora, esperar a página de login carregar\n",
    "WebDriverWait(driver, 10).until(\n",
    "    EC.presence_of_element_located((By.XPATH, '//*[@id=\"main\"]/div/div[2]/div/div/div/div[2]/div/div[2]/form/div[1]/div[1]/input'))\n",
    ")\n",
    "\n",
    "# Localizar e preencher o campo de e-mail\n",
    "email_input = driver.find_element(By.XPATH, '//*[@id=\"main\"]/div/div[2]/div/div/div/div[2]/div/div[2]/form/div[1]/div[1]/input')\n",
    "email_input.clear()  # Limpar qualquer valor existente\n",
    "email_input.send_keys(\"SEU_EMAIL\")\n",
    "print(\"Preencheu o campo de e-mail\")\n",
    "\n",
    "# Localizar e preencher o campo de senha\n",
    "senha_input = driver.find_element(By.XPATH, '//*[@id=\"main\"]/div/div[2]/div/div/div/div[2]/div/div[2]/form/div[2]/div[1]/input')\n",
    "senha_input.clear()  # Limpar qualquer valor existente\n",
    "senha_input.send_keys(\"SUA_SENHA_SECRETA\")\n",
    "print(\"Preencheu o campo de senha\")\n",
    "\n",
    "# Localizar e clicar no botão \"Entrar\"\n",
    "try:\n",
    "    entrar_button = WebDriverWait(driver, 20).until(\n",
    "        EC.element_to_be_clickable((By.XPATH, '//*[@id=\"main\"]/div/div[2]/div/div/div/div[2]/div/div[2]/form/button'))\n",
    "    )\n",
    "    entrar_button.click()\n",
    "    print(\"Clicou no botão 'Entrar'\")\n",
    "except Exception as e:\n",
    "    print(f\"Erro ao clicar no botão 'Entrar': {e}\")"
   ]
  },
  {
   "cell_type": "code",
   "execution_count": null,
   "id": "a419967a-8dc2-4d16-b048-d1a74e861283",
   "metadata": {},
   "outputs": [],
   "source": []
  }
 ],
 "metadata": {
  "kernelspec": {
   "display_name": "Python 3 (ipykernel)",
   "language": "python",
   "name": "python3"
  },
  "language_info": {
   "codemirror_mode": {
    "name": "ipython",
    "version": 3
   },
   "file_extension": ".py",
   "mimetype": "text/x-python",
   "name": "python",
   "nbconvert_exporter": "python",
   "pygments_lexer": "ipython3",
   "version": "3.11.5"
  }
 },
 "nbformat": 4,
 "nbformat_minor": 5
}
